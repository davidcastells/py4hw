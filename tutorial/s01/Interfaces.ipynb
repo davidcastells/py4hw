{
 "cells": [
  {
   "cell_type": "markdown",
   "id": "ef304a21",
   "metadata": {},
   "source": [
    "#   [Py4Hw User Guide](../UserGuide.ipynb)> 1.8 Interfaces\n",
    "###  [Next: 1.9 Abstract Logic](../s01/abstract.ipynb)"
   ]
  },
  {
   "cell_type": "markdown",
   "id": "db239b6c",
   "metadata": {},
   "source": [
    "Interfaces are groups of wires semantically related.\n",
    "Interfaces are point to point (NOT POINT TO MULTIPOINT AS WIRES!)\n",
    "\n",
    "This is because Interfaces are bidirectional, so 1->n and n<-1 can only resolve into 1<--->1.\n",
    "\n",
    "Who is the source, and who is the sink generaly depends on what is the majority of wires going in which direction.\n",
    "\n",
    "Imagine we have an interface like this\n",
    "\n",
    "<pre>\n",
    "+----------+         +----------+\n",
    "|        A |-------->| A        |\n",
    "| Source B |-------->| B  Sink  |\n",
    "|        C |<--------| C        |\n",
    "+----------+         +----------+\n",
    "</pre>\n",
    "\n",
    "The Interface class maintains a list with the signals that go from source to sink (A and B) , and another list with the signals that go from sink to source (C).\n",
    "\n",
    "The Logic class has a method to add all the signals of the interface to the circuit, either as source or sink.\n",
    "\n",
    "When you create an interface you describe the signals participating in it, and save them in the class.\n",
    "\n",
    "Then the endpoints can connect to that interface either as source or sink."
   ]
  },
  {
   "cell_type": "code",
   "execution_count": 3,
   "id": "2372ad01",
   "metadata": {},
   "outputs": [
    {
     "data": {
      "image/png": "[encoded data removed]",
      "text/plain": [
       "<Figure size 413x210 with 1 Axes>"
      ]
     },
     "metadata": {},
     "output_type": "display_data"
    }
   ],
   "source": [
    "import py4hw \n",
    "\n",
    "class Handshake(py4hw.Interface):\n",
    "    \n",
    "    def __init__(self, parent, name):\n",
    "        super().__init__(parent, name)\n",
    "        \n",
    "        self.A = self.addSourceToSink('A', 1)\n",
    "        self.B = self.addSourceToSink('B', 1)\n",
    "        self.C = self.addSinkToSource('C', 1)\n",
    "        \n",
    "        \n",
    "class Source(py4hw.Logic):\n",
    "    \n",
    "    def __init__(self, parent, name, port0):\n",
    "        super().__init__(parent, name)\n",
    "        \n",
    "        self.port0 = self.addInterfaceSource('src', port0)\n",
    "        \n",
    "        \n",
    "class Sink(py4hw.Logic):\n",
    "    \n",
    "    def __init__(self, parent, name, port0):\n",
    "        super().__init__(parent, name)\n",
    "        \n",
    "        self.port0 = self.addInterfaceSink('trg', port0)\n",
    "        \n",
    "sys = py4hw.HWSystem()\n",
    "\n",
    "port0 = Handshake(sys, 'port0')\n",
    "\n",
    "Source(sys, 'My Source', port0)\n",
    "Sink(sys, 'My Sink', port0)\n",
    "\n",
    "sch = py4hw.Schematic(sys)\n",
    "sch.draw()"
   ]
  },
  {
   "cell_type": "markdown",
   "id": "081d3165",
   "metadata": {},
   "source": [
    "Now we can have multiple instances in the same object."
   ]
  },
  {
   "cell_type": "code",
   "execution_count": 8,
   "id": "ea9b8e0d",
   "metadata": {},
   "outputs": [
    {
     "data": {
      "image/png": "[encoded data removed]",
      "text/plain": [
       "<Figure size 645x318 with 1 Axes>"
      ]
     },
     "metadata": {},
     "output_type": "display_data"
    }
   ],
   "source": [
    "class SourceSink(py4hw.Logic):\n",
    "    \n",
    "    def __init__(self, parent, name, port0, port1):\n",
    "        super().__init__(parent, name)\n",
    "        \n",
    "        self.port0 = self.addInterfaceSource('src', port0)\n",
    "        self.port1 = self.addInterfaceSink('trg', port1)\n",
    "        \n",
    "        \n",
    "sys = py4hw.HWSystem()\n",
    "\n",
    "port0 = Handshake(sys, 'channel1')\n",
    "port1 = Handshake(sys, 'channel2')\n",
    "\n",
    "Source(sys, 'My Source', port0)\n",
    "SourceSink(sys, 'My SourceSink', port1, port0)\n",
    "Sink(sys, 'My Sink', port1)\n",
    "\n",
    "sch = py4hw.Schematic(sys)\n",
    "sch.draw()"
   ]
  },
  {
   "cell_type": "markdown",
   "id": "d04cbd8c",
   "metadata": {},
   "source": [
    "## Summary\n",
    "- Interfaces are groups of related wires to ease point to point connections\n",
    "- Interfaces have one endpoint called Source and one endpoint called Sink\n",
    "- Sources will typically provide more output wires to the interface\n",
    "- Sinks will typicall provide more input wires to the interface\n",
    "- Adding the ports and connecting the multiple wires of the interface is done by a single function call (addInterfaceSource, addInterfaceSink)"
   ]
  },
  {
   "cell_type": "code",
   "execution_count": null,
   "id": "5f2ae21a",
   "metadata": {},
   "outputs": [],
   "source": []
  }
 ],
 "metadata": {
  "kernelspec": {
   "display_name": "Python 3 (ipykernel)",
   "language": "python",
   "name": "python3"
  },
  "language_info": {
   "codemirror_mode": {
    "name": "ipython",
    "version": 3
   },
   "file_extension": ".py",
   "mimetype": "text/x-python",
   "name": "python",
   "nbconvert_exporter": "python",
   "pygments_lexer": "ipython3",
   "version": "3.11.5"
  }
 },
 "nbformat": 4,
 "nbformat_minor": 5
}
