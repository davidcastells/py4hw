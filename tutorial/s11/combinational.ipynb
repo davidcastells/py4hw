{
 "cells": [
  {
   "cell_type": "markdown",
   "id": "439f109a",
   "metadata": {},
   "source": [
    "#   [Py4Hw User Guide](../UserGuide.ipynb)> 11.1 HLS of combinational circuits"
   ]
  },
  {
   "cell_type": "markdown",
   "id": "ca5d0db5",
   "metadata": {},
   "source": [
    "High Level Synthesis in py4hw refers to the process of creating hardware from python source code. The result of this process is not a Verilog code, but a py4hw structural model, which can then be translated to verilog.\n",
    "\n",
    "Thus, this is a source-to-source transformation in the python language domain.\n",
    "\n",
    "Let's create this circuit to compute the square root of an integer value using the babylonian method.\n",
    "Note that is is a combinational circuit, because all the behavior takes place in the propagate method. "
   ]
  },
  {
   "cell_type": "code",
   "execution_count": 1,
   "id": "984a1dc5",
   "metadata": {},
   "outputs": [],
   "source": [
    "import py4hw"
   ]
  },
  {
   "cell_type": "code",
   "execution_count": 2,
   "id": "b9632b91",
   "metadata": {},
   "outputs": [],
   "source": [
    "class SquareRoot(py4hw.Logic):\n",
    "    def __init__(self, parent, name, a, r):\n",
    "        super().__init__(parent, name)\n",
    "        \n",
    "        self.a = self.addIn('a', a)\n",
    "        self.r = self.addOut('r', r)\n",
    "        \n",
    "        \n",
    "    def propagate(self):\n",
    "        maxv = 1 << self.a.getWidth()\n",
    "        maxiter = int(math.log2(math.log2(maxv))) + 4\n",
    "        #print('max iters:', maxiter)\n",
    "        \n",
    "        n = self.a.get() \n",
    "        if n == 0:\n",
    "            r = 0\n",
    "        elif n == 1:\n",
    "            r = 1\n",
    "        else:\n",
    "            guess = n\n",
    "            done = False\n",
    "            for _ in range(maxiter):\n",
    "                # For a combinational circuit loops must be fully unrollable,\n",
    "                # otherwise no synthesys is possible\n",
    "                if (done):\n",
    "                    pass\n",
    "                else:\n",
    "                    next_guess = (guess + (n // guess)) // 2  # Integer division\n",
    "\n",
    "                    if next_guess >= guess:  # Convergence condition: guess stops decreasing\n",
    "                        done = True\n",
    "                    else:\n",
    "                        guess = next_guess\n",
    "            r = guess\n",
    "            \n",
    "        self.r.put(r)\n"
   ]
  },
  {
   "cell_type": "markdown",
   "id": "51aa5a13",
   "metadata": {},
   "source": [
    "we want to create an structural circuit from this behavioral description. This is what we expect from High Level Synthesis workflows. However, typical HLS workflows will create Verilog from high-level language. We can follow a different approach, generate a py4hw structural model (in Python) from a py4hw behavioral model (also in Python, of course).  "
   ]
  },
  {
   "cell_type": "code",
   "execution_count": 3,
   "id": "c69dd691",
   "metadata": {},
   "outputs": [],
   "source": [
    "from py4hw.transpilation.python2structural import Python2StructuralCode"
   ]
  },
  {
   "cell_type": "code",
   "execution_count": 4,
   "id": "e84fb4cc",
   "metadata": {},
   "outputs": [
    {
     "name": "stdout",
     "output_type": "stream",
     "text": [
      "# This file was automatically created by Python2StructuralCode\n",
      "class SquareRootStructural(Logic):\n",
      "\n",
      "    def __init__(self, parent, name, a, r):\n",
      "        super().__init__(parent, name)\n",
      "        self.a = self.addIn('a', a)\n",
      "        self.r = self.addOut('r', r)\n",
      "        self.build()\n",
      "\n",
      "    def build(self):\n",
      "        maxv = 1 << self.a.getWidth()\n",
      "        maxiter = int(math.log2(math.log2(maxv))) + 4\n",
      "        n = self.a.get()\n",
      "        if n == 0:\n",
      "            r = 0\n",
      "        elif n == 1:\n",
      "            r = 1\n",
      "        else:\n",
      "            guess = n\n",
      "            done = False\n",
      "            for _ in range(maxiter):\n",
      "                if done:\n",
      "                    pass\n",
      "                else:\n",
      "                    next_guess = (guess + n // guess) // 2\n",
      "                    if next_guess >= guess:\n",
      "                        done = True\n",
      "                    else:\n",
      "                        guess = next_guess\n",
      "            r = guess\n",
      "        self.r.put(r)\n"
     ]
    }
   ],
   "source": [
    "coder = Python2StructuralCode(SquareRoot)\n",
    "\n",
    "print(coder.getCode())"
   ]
  },
  {
   "cell_type": "code",
   "execution_count": 5,
   "id": "375a679f",
   "metadata": {},
   "outputs": [
    {
     "data": {
      "text/plain": [
       "'SquareRoot'"
      ]
     },
     "execution_count": 5,
     "metadata": {},
     "output_type": "execute_result"
    }
   ],
   "source": [
    "coder.clazz.__name__"
   ]
  },
  {
   "cell_type": "code",
   "execution_count": null,
   "id": "daffa8e5",
   "metadata": {},
   "outputs": [],
   "source": []
  }
 ],
 "metadata": {
  "kernelspec": {
   "display_name": "Python 3 (ipykernel)",
   "language": "python",
   "name": "python3"
  },
  "language_info": {
   "codemirror_mode": {
    "name": "ipython",
    "version": 3
   },
   "file_extension": ".py",
   "mimetype": "text/x-python",
   "name": "python",
   "nbconvert_exporter": "python",
   "pygments_lexer": "ipython3",
   "version": "3.11.5"
  }
 },
 "nbformat": 4,
 "nbformat_minor": 5
}
