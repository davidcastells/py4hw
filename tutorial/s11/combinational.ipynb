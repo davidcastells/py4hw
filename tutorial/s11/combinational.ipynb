{
 "cells": [
  {
   "cell_type": "markdown",
   "id": "439f109a",
   "metadata": {},
   "source": [
    "#   [Py4Hw User Guide](../UserGuide.ipynb)> 11.1 HLS of combinational circuits"
   ]
  },
  {
   "cell_type": "markdown",
   "id": "ca5d0db5",
   "metadata": {},
   "source": [
    "High Level Synthesis in py4hw refers to the process of creating hardware from python source code. The result of this process is not a Verilog code, but a py4hw structural model, which can then be translated to verilog.\n",
    "\n",
    "Thus, this is a source-to-source transformation in the python language domain."
   ]
  },
  {
   "cell_type": "code",
   "execution_count": null,
   "id": "b9632b91",
   "metadata": {},
   "outputs": [],
   "source": []
  }
 ],
 "metadata": {
  "kernelspec": {
   "display_name": "Python 3 (ipykernel)",
   "language": "python",
   "name": "python3"
  },
  "language_info": {
   "codemirror_mode": {
    "name": "ipython",
    "version": 3
   },
   "file_extension": ".py",
   "mimetype": "text/x-python",
   "name": "python",
   "nbconvert_exporter": "python",
   "pygments_lexer": "ipython3",
   "version": "3.11.5"
  }
 },
 "nbformat": 4,
 "nbformat_minor": 5
}
