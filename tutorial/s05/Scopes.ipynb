{
 "cells": [
  {
   "cell_type": "markdown",
   "id": "ca4320f0",
   "metadata": {},
   "source": [
    "#   [Py4Hw User Guide](../UserGuide.ipynb)> 4.2 Scopes"
   ]
  },
  {
   "cell_type": "markdown",
   "id": "5225bb51",
   "metadata": {},
   "source": [
    "Scopes are elements used in simulation to get feedback of values"
   ]
  },
  {
   "cell_type": "code",
   "execution_count": null,
   "id": "091b20dc",
   "metadata": {},
   "outputs": [],
   "source": []
  }
 ],
 "metadata": {
  "kernelspec": {
   "display_name": "Python 3 (ipykernel)",
   "language": "python",
   "name": "python3"
  },
  "language_info": {
   "codemirror_mode": {
    "name": "ipython",
    "version": 3
   },
   "file_extension": ".py",
   "mimetype": "text/x-python",
   "name": "python",
   "nbconvert_exporter": "python",
   "pygments_lexer": "ipython3",
   "version": "3.10.13"
  }
 },
 "nbformat": 4,
 "nbformat_minor": 5
}
